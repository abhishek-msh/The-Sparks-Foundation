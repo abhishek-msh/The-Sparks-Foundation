{
  "nbformat": 4,
  "nbformat_minor": 0,
  "metadata": {
    "colab": {
      "name": "Task.ipynb",
      "provenance": [],
      "collapsed_sections": []
    },
    "kernelspec": {
      "name": "python3",
      "display_name": "Python 3"
    },
    "language_info": {
      "name": "python"
    }
  },
  "cells": [
    {
      "cell_type": "markdown",
      "metadata": {
        "id": "aHCsPAvjGInu"
      },
      "source": [
        "# **THE SPARKS FOUNDATION**\n",
        "\n",
        "**Task: Prediction using Supervised ML**\n",
        "*  Predict the percentage of an student based on the no. of study hours.\n",
        "\n",
        "This is a simple linear regression task as it involves just 2 variables.\n",
        "\n",
        "\n",
        "Data can be found at http://bit.ly/w-data\n",
        "\n",
        "---\n",
        "***Author - ABHISHEK M SHARMA*** (https://www.linkedin.com/in/abhisheksh10/) "
      ]
    },
    {
      "cell_type": "code",
      "metadata": {
        "id": "DL6Bb49cJor3"
      },
      "source": [
        "# Importing Libraries\n",
        "import numpy as np\n",
        "import pandas as pd\n",
        "import matplotlib.pyplot as plt\n",
        "import sklearn"
      ],
      "execution_count": 1,
      "outputs": []
    },
    {
      "cell_type": "code",
      "metadata": {
        "colab": {
          "base_uri": "https://localhost:8080/",
          "height": 204
        },
        "id": "-48xy5gtLgog",
        "outputId": "8ea0de00-39ce-4289-f33a-2cf286810e6d"
      },
      "source": [
        "# Importing Dataset\n",
        "data = pd.read_csv(\"http://bit.ly/w-data\") \n",
        "data.head()"
      ],
      "execution_count": 2,
      "outputs": [
        {
          "output_type": "execute_result",
          "data": {
            "text/html": [
              "<div>\n",
              "<style scoped>\n",
              "    .dataframe tbody tr th:only-of-type {\n",
              "        vertical-align: middle;\n",
              "    }\n",
              "\n",
              "    .dataframe tbody tr th {\n",
              "        vertical-align: top;\n",
              "    }\n",
              "\n",
              "    .dataframe thead th {\n",
              "        text-align: right;\n",
              "    }\n",
              "</style>\n",
              "<table border=\"1\" class=\"dataframe\">\n",
              "  <thead>\n",
              "    <tr style=\"text-align: right;\">\n",
              "      <th></th>\n",
              "      <th>Hours</th>\n",
              "      <th>Scores</th>\n",
              "    </tr>\n",
              "  </thead>\n",
              "  <tbody>\n",
              "    <tr>\n",
              "      <th>0</th>\n",
              "      <td>2.5</td>\n",
              "      <td>21</td>\n",
              "    </tr>\n",
              "    <tr>\n",
              "      <th>1</th>\n",
              "      <td>5.1</td>\n",
              "      <td>47</td>\n",
              "    </tr>\n",
              "    <tr>\n",
              "      <th>2</th>\n",
              "      <td>3.2</td>\n",
              "      <td>27</td>\n",
              "    </tr>\n",
              "    <tr>\n",
              "      <th>3</th>\n",
              "      <td>8.5</td>\n",
              "      <td>75</td>\n",
              "    </tr>\n",
              "    <tr>\n",
              "      <th>4</th>\n",
              "      <td>3.5</td>\n",
              "      <td>30</td>\n",
              "    </tr>\n",
              "  </tbody>\n",
              "</table>\n",
              "</div>"
            ],
            "text/plain": [
              "   Hours  Scores\n",
              "0    2.5      21\n",
              "1    5.1      47\n",
              "2    3.2      27\n",
              "3    8.5      75\n",
              "4    3.5      30"
            ]
          },
          "metadata": {
            "tags": []
          },
          "execution_count": 2
        }
      ]
    },
    {
      "cell_type": "code",
      "metadata": {
        "colab": {
          "base_uri": "https://localhost:8080/"
        },
        "id": "muYQsN4zL1Bg",
        "outputId": "4317547a-dbc2-4fce-a918-e0e17a2cff70"
      },
      "source": [
        "# Summary of Dataset\n",
        "data.info()"
      ],
      "execution_count": 3,
      "outputs": [
        {
          "output_type": "stream",
          "text": [
            "<class 'pandas.core.frame.DataFrame'>\n",
            "RangeIndex: 25 entries, 0 to 24\n",
            "Data columns (total 2 columns):\n",
            " #   Column  Non-Null Count  Dtype  \n",
            "---  ------  --------------  -----  \n",
            " 0   Hours   25 non-null     float64\n",
            " 1   Scores  25 non-null     int64  \n",
            "dtypes: float64(1), int64(1)\n",
            "memory usage: 528.0 bytes\n"
          ],
          "name": "stdout"
        }
      ]
    },
    {
      "cell_type": "code",
      "metadata": {
        "colab": {
          "base_uri": "https://localhost:8080/"
        },
        "id": "IJ0qSkloMRUI",
        "outputId": "ef6da295-db5a-447b-d400-8a4140bbd2af"
      },
      "source": [
        "# Check is there any missing value\n",
        "data.isna().sum()"
      ],
      "execution_count": 4,
      "outputs": [
        {
          "output_type": "execute_result",
          "data": {
            "text/plain": [
              "Hours     0\n",
              "Scores    0\n",
              "dtype: int64"
            ]
          },
          "metadata": {
            "tags": []
          },
          "execution_count": 4
        }
      ]
    },
    {
      "cell_type": "code",
      "metadata": {
        "colab": {
          "base_uri": "https://localhost:8080/",
          "height": 295
        },
        "id": "TbCn7QBMMvFY",
        "outputId": "3318c799-5db4-4d67-f772-3dd3969018f2"
      },
      "source": [
        "# Visulize the data\n",
        "plt.scatter(data.Hours,data.Scores)\n",
        "plt.xlabel('Hours')\n",
        "plt.ylabel('Scores')\n",
        "plt.title('Hours studied vs Score')\n",
        "plt.show()"
      ],
      "execution_count": 5,
      "outputs": [
        {
          "output_type": "display_data",
          "data": {
            "image/png": "[encoded data removed]",
            "text/plain": [
              "<Figure size 432x288 with 1 Axes>"
            ]
          },
          "metadata": {
            "tags": [],
            "needs_background": "light"
          }
        }
      ]
    },
    {
      "cell_type": "markdown",
      "metadata": {
        "id": "0sxTYYjUOPUQ"
      },
      "source": [
        "# Training the Model\n",
        "Split data for training and testing set"
      ]
    },
    {
      "cell_type": "code",
      "metadata": {
        "id": "frdes0DTio5c"
      },
      "source": [
        "# Spliting the data into x and y\n",
        "x = data.iloc[:, :-1].values  \n",
        "y = data.iloc[:, 1].values"
      ],
      "execution_count": 6,
      "outputs": []
    },
    {
      "cell_type": "code",
      "metadata": {
        "id": "NC-0mBFBjAkS"
      },
      "source": [
        "# Splitting into train and test sets\n",
        "from sklearn.model_selection import train_test_split\n",
        "x_train, x_test, y_train, y_test = train_test_split(x, y, random_state = 42, test_size=0.2)"
      ],
      "execution_count": 7,
      "outputs": []
    },
    {
      "cell_type": "code",
      "metadata": {
        "colab": {
          "base_uri": "https://localhost:8080/"
        },
        "id": "LvAl6_yGt_HH",
        "outputId": "834adb0c-b419-45eb-b0fa-66a2d5014619"
      },
      "source": [
        "len(x_train), len(x_test), len(y_train), len(y_test)"
      ],
      "execution_count": 8,
      "outputs": [
        {
          "output_type": "execute_result",
          "data": {
            "text/plain": [
              "(20, 5, 20, 5)"
            ]
          },
          "metadata": {
            "tags": []
          },
          "execution_count": 8
        }
      ]
    },
    {
      "cell_type": "code",
      "metadata": {
        "id": "izmjPN_qjX7C"
      },
      "source": [
        "# Traning the model\n",
        "from sklearn.linear_model import LinearRegression\n",
        "\n",
        "model = LinearRegression()\n",
        "model.fit(x_train,y_train);"
      ],
      "execution_count": 9,
      "outputs": []
    },
    {
      "cell_type": "code",
      "metadata": {
        "colab": {
          "base_uri": "https://localhost:8080/",
          "height": 295
        },
        "id": "El3DDw9mjeiK",
        "outputId": "c945878f-b93d-453d-b134-16e030902030"
      },
      "source": [
        "# plotting the regression line\n",
        "line = model.coef_*x + model.intercept_\n",
        "\n",
        "plt.scatter(x_train, y_train, label = \"Train data\", color = 'orange')\n",
        "plt.scatter(x_test, y_test, label = \"Test data\", color = 'blue')\n",
        "\n",
        "plt.title(\"Study hours v/s Scores\")\n",
        "\n",
        "plt.plot(x, line, color = 'red', label = 'Regression line')\n",
        "plt.xlabel('Hours')\n",
        "plt.ylabel('Scores')\n",
        "plt.legend()\n",
        "plt.show()"
      ],
      "execution_count": 10,
      "outputs": [
        {
          "output_type": "display_data",
          "data": {
            "image/png": "[encoded data removed]",
            "text/plain": [
              "<Figure size 432x288 with 1 Axes>"
            ]
          },
          "metadata": {
            "tags": [],
            "needs_background": "light"
          }
        }
      ]
    },
    {
      "cell_type": "markdown",
      "metadata": {
        "id": "dpS31tHPmn9w"
      },
      "source": [
        "# Making Predictions"
      ]
    },
    {
      "cell_type": "code",
      "metadata": {
        "colab": {
          "base_uri": "https://localhost:8080/"
        },
        "id": "cUSYG4S3nFo6",
        "outputId": "4f4cc442-48bc-4519-a6c7-3833c913df25"
      },
      "source": [
        "# Prediction the score\n",
        "y_preds = model.predict(x_test)\n",
        "y_preds"
      ],
      "execution_count": 11,
      "outputs": [
        {
          "output_type": "execute_result",
          "data": {
            "text/plain": [
              "array([83.18814104, 27.03208774, 27.03208774, 69.63323162, 59.95115347])"
            ]
          },
          "metadata": {
            "tags": []
          },
          "execution_count": 11
        }
      ]
    },
    {
      "cell_type": "code",
      "metadata": {
        "colab": {
          "base_uri": "https://localhost:8080/"
        },
        "id": "lceW89cFnRhY",
        "outputId": "f9bef1e8-3435-4037-dd7e-95fd921f1c08"
      },
      "source": [
        "y_test"
      ],
      "execution_count": 12,
      "outputs": [
        {
          "output_type": "execute_result",
          "data": {
            "text/plain": [
              "array([81, 30, 21, 76, 62])"
            ]
          },
          "metadata": {
            "tags": []
          },
          "execution_count": 12
        }
      ]
    },
    {
      "cell_type": "code",
      "metadata": {
        "colab": {
          "base_uri": "https://localhost:8080/",
          "height": 204
        },
        "id": "-QC538gUniSJ",
        "outputId": "a4fdd150-3f3e-48be-b52b-0ef563e1995d"
      },
      "source": [
        "# Comparing Actual vs Prediction Scores\n",
        "df = pd.DataFrame({\"Actual_Score\":y_test, \"Predicted_Score\":y_preds, \"Variance\":y_test-y_preds})\n",
        "df"
      ],
      "execution_count": 13,
      "outputs": [
        {
          "output_type": "execute_result",
          "data": {
            "text/html": [
              "<div>\n",
              "<style scoped>\n",
              "    .dataframe tbody tr th:only-of-type {\n",
              "        vertical-align: middle;\n",
              "    }\n",
              "\n",
              "    .dataframe tbody tr th {\n",
              "        vertical-align: top;\n",
              "    }\n",
              "\n",
              "    .dataframe thead th {\n",
              "        text-align: right;\n",
              "    }\n",
              "</style>\n",
              "<table border=\"1\" class=\"dataframe\">\n",
              "  <thead>\n",
              "    <tr style=\"text-align: right;\">\n",
              "      <th></th>\n",
              "      <th>Actual_Score</th>\n",
              "      <th>Predicted_Score</th>\n",
              "      <th>Variance</th>\n",
              "    </tr>\n",
              "  </thead>\n",
              "  <tbody>\n",
              "    <tr>\n",
              "      <th>0</th>\n",
              "      <td>81</td>\n",
              "      <td>83.188141</td>\n",
              "      <td>-2.188141</td>\n",
              "    </tr>\n",
              "    <tr>\n",
              "      <th>1</th>\n",
              "      <td>30</td>\n",
              "      <td>27.032088</td>\n",
              "      <td>2.967912</td>\n",
              "    </tr>\n",
              "    <tr>\n",
              "      <th>2</th>\n",
              "      <td>21</td>\n",
              "      <td>27.032088</td>\n",
              "      <td>-6.032088</td>\n",
              "    </tr>\n",
              "    <tr>\n",
              "      <th>3</th>\n",
              "      <td>76</td>\n",
              "      <td>69.633232</td>\n",
              "      <td>6.366768</td>\n",
              "    </tr>\n",
              "    <tr>\n",
              "      <th>4</th>\n",
              "      <td>62</td>\n",
              "      <td>59.951153</td>\n",
              "      <td>2.048847</td>\n",
              "    </tr>\n",
              "  </tbody>\n",
              "</table>\n",
              "</div>"
            ],
            "text/plain": [
              "   Actual_Score  Predicted_Score  Variance\n",
              "0            81        83.188141 -2.188141\n",
              "1            30        27.032088  2.967912\n",
              "2            21        27.032088 -6.032088\n",
              "3            76        69.633232  6.366768\n",
              "4            62        59.951153  2.048847"
            ]
          },
          "metadata": {
            "tags": []
          },
          "execution_count": 13
        }
      ]
    },
    {
      "cell_type": "markdown",
      "metadata": {
        "id": "WNraYN8CoEzx"
      },
      "source": [
        "# Evaluation of the Model"
      ]
    },
    {
      "cell_type": "code",
      "metadata": {
        "colab": {
          "base_uri": "https://localhost:8080/"
        },
        "id": "h_UZ0M41ogjx",
        "outputId": "93f5c3b5-63e0-4239-fd17-a2bd8e9d772d"
      },
      "source": [
        "from sklearn.metrics import mean_squared_error, mean_absolute_error, r2_score\n",
        "\n",
        "MAE = mean_absolute_error(y_test, y_preds)\n",
        "MSE = mean_squared_error(y_test, y_preds)\n",
        "RMSE = np.sqrt(MSE)\n",
        "r2 = round(r2_score(y_test, y_preds)*100,3)\n",
        "\n",
        "print(f\"Mean Absolute Error : {MAE}\")\n",
        "print(f\"Mean Squared Error : {MSE}\")\n",
        "print(f\"Root Mean Squared Error : {RMSE}\")\n",
        "print(f\"R2Score : {r2}\")"
      ],
      "execution_count": 14,
      "outputs": [
        {
          "output_type": "stream",
          "text": [
            "Mean Absolute Error : 3.9207511902099244\n",
            "Mean Squared Error : 18.943211722315272\n",
            "Root Mean Squared Error : 4.352380006653288\n",
            "R2Score : 96.781\n"
          ],
          "name": "stdout"
        }
      ]
    },
    {
      "cell_type": "markdown",
      "metadata": {
        "id": "14u3BqYQpA24"
      },
      "source": [
        "#### Question\n",
        "**What will be predicted score if a student studies for 9.25 hrs/ day?**"
      ]
    },
    {
      "cell_type": "code",
      "metadata": {
        "colab": {
          "base_uri": "https://localhost:8080/"
        },
        "id": "genUSUA4p0tn",
        "outputId": "6e48856c-b000-466e-ddd1-a7ac0956e499"
      },
      "source": [
        "hrs = [9.25]\n",
        "score = model.predict([hrs])\n",
        "print(f\"Predicted Score: {round(score[0],2)}\")"
      ],
      "execution_count": 15,
      "outputs": [
        {
          "output_type": "stream",
          "text": [
            "Predicted Score: 92.39\n"
          ],
          "name": "stdout"
        }
      ]
    },
    {
      "cell_type": "markdown",
      "metadata": {
        "id": "o7U_moM-qGW5"
      },
      "source": [
        "From the above result we can say that if a studied for 9.25 then student will secured 92.39 MARKS"
      ]
    }
  ]
}